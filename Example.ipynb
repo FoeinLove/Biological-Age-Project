{
 "cells": [
  {
   "cell_type": "markdown",
   "metadata": {},
   "source": [
    "Ver 2.0.1\n",
    "04/05/2020 Bug Fixes:\n",
    "* Example now shows correct r2 value\n",
    "* Example correlation correlates against age\n",
    "* bio_age: primarykey removed from possible means to be listed\n",
    "* Summary.mean() calculated with numpy"
   ]
  },
  {
   "cell_type": "code",
   "execution_count": 1,
   "metadata": {},
   "outputs": [
    {
     "name": "stdout",
     "output_type": "stream",
     "text": [
      "You are running BA_NB_Final at 2020-04-05 22:38:23.977041\n"
     ]
    }
   ],
   "source": [
    "#import import_ipynb\n",
    "import bio_age as BA\n",
    "import pandas as pd\n",
    "import scipy as sp #scipy for regressions\n",
    "import numpy as np"
   ]
  },
  {
   "cell_type": "markdown",
   "metadata": {},
   "source": [
    "# Example 1: NHANES III Dataset"
   ]
  },
  {
   "cell_type": "code",
   "execution_count": 2,
   "metadata": {},
   "outputs": [
    {
     "data": {
      "text/html": [
       "<div>\n",
       "<style scoped>\n",
       "    .dataframe tbody tr th:only-of-type {\n",
       "        vertical-align: middle;\n",
       "    }\n",
       "\n",
       "    .dataframe tbody tr th {\n",
       "        vertical-align: top;\n",
       "    }\n",
       "\n",
       "    .dataframe thead th {\n",
       "        text-align: right;\n",
       "    }\n",
       "</style>\n",
       "<table border=\"1\" class=\"dataframe\">\n",
       "  <thead>\n",
       "    <tr style=\"text-align: right;\">\n",
       "      <th></th>\n",
       "      <th>seqn</th>\n",
       "      <th>bup</th>\n",
       "      <th>tcp</th>\n",
       "      <th>crp</th>\n",
       "      <th>cep</th>\n",
       "      <th>appsi</th>\n",
       "      <th>amp</th>\n",
       "      <th>ghp</th>\n",
       "      <th>age</th>\n",
       "      <th>samp_wt</th>\n",
       "      <th>cmvod</th>\n",
       "      <th>fev</th>\n",
       "      <th>female</th>\n",
       "      <th>wbc</th>\n",
       "      <th>sbp</th>\n",
       "      <th>fvc</th>\n",
       "    </tr>\n",
       "  </thead>\n",
       "  <tbody>\n",
       "    <tr>\n",
       "      <td>0</td>\n",
       "      <td>4</td>\n",
       "      <td>11</td>\n",
       "      <td>160</td>\n",
       "      <td>0.21</td>\n",
       "      <td>0.7</td>\n",
       "      <td>89</td>\n",
       "      <td>4.1</td>\n",
       "      <td>4.6</td>\n",
       "      <td>32</td>\n",
       "      <td>0.183278</td>\n",
       "      <td>0.517</td>\n",
       "      <td>3089</td>\n",
       "      <td>1</td>\n",
       "      <td>12.55</td>\n",
       "      <td>126</td>\n",
       "      <td>3536</td>\n",
       "    </tr>\n",
       "    <tr>\n",
       "      <td>1</td>\n",
       "      <td>9</td>\n",
       "      <td>14</td>\n",
       "      <td>236</td>\n",
       "      <td>0.21</td>\n",
       "      <td>0.8</td>\n",
       "      <td>59</td>\n",
       "      <td>4.0</td>\n",
       "      <td>5.3</td>\n",
       "      <td>48</td>\n",
       "      <td>2.066707</td>\n",
       "      <td>1.946</td>\n",
       "      <td>2512</td>\n",
       "      <td>1</td>\n",
       "      <td>4.95</td>\n",
       "      <td>131</td>\n",
       "      <td>3436</td>\n",
       "    </tr>\n",
       "    <tr>\n",
       "      <td>2</td>\n",
       "      <td>10</td>\n",
       "      <td>14</td>\n",
       "      <td>225</td>\n",
       "      <td>0.21</td>\n",
       "      <td>1.2</td>\n",
       "      <td>74</td>\n",
       "      <td>4.5</td>\n",
       "      <td>4.6</td>\n",
       "      <td>35</td>\n",
       "      <td>2.950445</td>\n",
       "      <td>0.349</td>\n",
       "      <td>3911</td>\n",
       "      <td>0</td>\n",
       "      <td>5.90</td>\n",
       "      <td>130</td>\n",
       "      <td>4630</td>\n",
       "    </tr>\n",
       "    <tr>\n",
       "      <td>3</td>\n",
       "      <td>19</td>\n",
       "      <td>10</td>\n",
       "      <td>187</td>\n",
       "      <td>0.21</td>\n",
       "      <td>1.1</td>\n",
       "      <td>86</td>\n",
       "      <td>4.2</td>\n",
       "      <td>5.7</td>\n",
       "      <td>44</td>\n",
       "      <td>0.410218</td>\n",
       "      <td>3.001</td>\n",
       "      <td>2594</td>\n",
       "      <td>0</td>\n",
       "      <td>6.10</td>\n",
       "      <td>133</td>\n",
       "      <td>4080</td>\n",
       "    </tr>\n",
       "    <tr>\n",
       "      <td>4</td>\n",
       "      <td>34</td>\n",
       "      <td>15</td>\n",
       "      <td>216</td>\n",
       "      <td>0.21</td>\n",
       "      <td>0.8</td>\n",
       "      <td>84</td>\n",
       "      <td>3.9</td>\n",
       "      <td>5.5</td>\n",
       "      <td>42</td>\n",
       "      <td>0.534605</td>\n",
       "      <td>3.001</td>\n",
       "      <td>2331</td>\n",
       "      <td>1</td>\n",
       "      <td>5.05</td>\n",
       "      <td>100</td>\n",
       "      <td>2850</td>\n",
       "    </tr>\n",
       "  </tbody>\n",
       "</table>\n",
       "</div>"
      ],
      "text/plain": [
       "   seqn  bup  tcp   crp  cep  appsi  amp  ghp  age   samp_wt  cmvod   fev  \\\n",
       "0     4   11  160  0.21  0.7     89  4.1  4.6   32  0.183278  0.517  3089   \n",
       "1     9   14  236  0.21  0.8     59  4.0  5.3   48  2.066707  1.946  2512   \n",
       "2    10   14  225  0.21  1.2     74  4.5  4.6   35  2.950445  0.349  3911   \n",
       "3    19   10  187  0.21  1.1     86  4.2  5.7   44  0.410218  3.001  2594   \n",
       "4    34   15  216  0.21  0.8     84  3.9  5.5   42  0.534605  3.001  2331   \n",
       "\n",
       "   female    wbc  sbp   fvc  \n",
       "0       1  12.55  126  3536  \n",
       "1       1   4.95  131  3436  \n",
       "2       0   5.90  130  4630  \n",
       "3       0   6.10  133  4080  \n",
       "4       1   5.05  100  2850  "
      ]
     },
     "execution_count": 2,
     "metadata": {},
     "output_type": "execute_result"
    }
   ],
   "source": [
    "# load training set\n",
    "trainset = pd.read_csv('BioAgeSample_NHANESIII_without_fvc.txt', delimiter='\\t')\n",
    "trainset.head()"
   ]
  },
  {
   "cell_type": "code",
   "execution_count": 3,
   "metadata": {
    "scrolled": true
   },
   "outputs": [
    {
     "name": "stdout",
     "output_type": "stream",
     "text": [
      "0.9911351120527025\n"
     ]
    }
   ],
   "source": [
    "# find indices for age, group, primary index, sample weights\n",
    "header_names = list(trainset)\n",
    "age_index = header_names.index('age')\n",
    "genderindex = header_names.index('female') # this is the name of the group\n",
    "seqn = header_names.index('seqn')\n",
    "samp_wt_index = header_names.index('samp_wt')\n",
    "\n",
    "results = BA.KDM_model(trainset, trainset, 'cache_ex1.json', 'NHANES_eg_results', age_index, genderindex, seqn, samp_wt_index)"
   ]
  },
  {
   "cell_type": "code",
   "execution_count": 4,
   "metadata": {},
   "outputs": [
    {
     "name": "stdout",
     "output_type": "stream",
     "text": [
      "Mean residual: 1.3227190927206718\n",
      "Median residual: 0.5815186882747128\n",
      "Median percent residual 1.123719360943522\n",
      "R-squared: 0.9823488103437232\n"
     ]
    }
   ],
   "source": [
    "# View Results\n",
    "print('Mean residual:', results[0])\n",
    "print('Median residual:', results[1])\n",
    "print('Median percent residual', results[2])\n",
    "print('R-squared:', results[4])"
   ]
  },
  {
   "cell_type": "markdown",
   "metadata": {},
   "source": [
    "### Show Means and Correlations"
   ]
  },
  {
   "cell_type": "code",
   "execution_count": 5,
   "metadata": {},
   "outputs": [
    {
     "name": "stdout",
     "output_type": "stream",
     "text": [
      "\n",
      "MEANS:\n",
      "age\t\t53.3239289446186\n",
      "amp\t\t4.108026975197112\n",
      "appsi\t\t87.85712928659638\n",
      "bup\t\t14.829296095753776\n",
      "cep\t\t1.1014059057005794\n",
      "cmvod\t\t2.1611983070165293\n",
      "crp\t\t0.5042661679253349\n",
      "female\t\t0.5330103543269687\n",
      "fev\t\t2771.6270542414745\n",
      "fvc\t\t3608.9115607485514\n",
      "ghp\t\t5.671663341417308\n",
      "samp_wt\t\t1.1560375776059655\n",
      "sbp\t\t128.79994300370475\n",
      "tcp\t\t211.7808492447991\n",
      "wbc\t\tnan\n"
     ]
    }
   ],
   "source": [
    "a = BA.Summary(trainset, age_index, samp_wt_index, seqn) # load Class\n",
    "\n",
    "# Means\n",
    "means = a.mean()"
   ]
  },
  {
   "cell_type": "code",
   "execution_count": 6,
   "metadata": {},
   "outputs": [
    {
     "name": "stdout",
     "output_type": "stream",
     "text": [
      "Cannot perfom correlation on wbc\n",
      "\n",
      "CORRELATIONS: (r, p-value)\n",
      "age\t\t(0.9999999999999998, 0.0)\n",
      "amp\t\t(-0.16280593361509277, 4.293230732596376e-17)\n",
      "appsi\t\t(0.18295941907950491, 3.024436505774297e-21)\n",
      "bup\t\t(0.4206464853361341, 2.2764170841970102e-113)\n",
      "cep\t\t(0.1929747080614527, 1.6940523277356328e-23)\n",
      "cmvod\t\t(0.24717662141515234, 6.210205951002721e-38)\n",
      "crp\t\t(0.06356551916869953, 0.0011029631729718879)\n",
      "female\t\t(-0.018736856122316917, 0.3366099677598781)\n",
      "fev\t\t(-0.5935168970120468, 2.5591376671795748e-250)\n",
      "fvc\t\t(-0.4663006229179487, 3.1702116512845543e-142)\n",
      "ghp\t\t(0.22619390136641168, 6.934123005866494e-32)\n",
      "samp_wt\t\t(-0.20921505015444442, 2.026492655228501e-27)\n",
      "sbp\t\t(0.5511896768489757, 4.3373575018631186e-209)\n",
      "seqn\t\t(-0.002047103440819391, 0.9163973816970639)\n",
      "tcp\t\t(0.20965734385345042, 1.5674192567794553e-27)\n"
     ]
    }
   ],
   "source": [
    "# Correlations\n",
    "corrs = a.corr(age_index)"
   ]
  },
  {
   "cell_type": "markdown",
   "metadata": {},
   "source": [
    "### Visualize these results"
   ]
  },
  {
   "cell_type": "code",
   "execution_count": 7,
   "metadata": {},
   "outputs": [],
   "source": [
    "results = pd.read_csv('NHANES_eg_results_test.csv')"
   ]
  },
  {
   "cell_type": "code",
   "execution_count": 8,
   "metadata": {},
   "outputs": [
    {
     "data": {
      "image/png": "[encoded data removed]",
      "text/plain": [
       "<Figure size 720x720 with 1 Axes>"
      ]
     },
     "metadata": {
      "needs_background": "light"
     },
     "output_type": "display_data"
    }
   ],
   "source": [
    "a = BA.Visualize(results)\n",
    "a.plot('BAC','age','female')"
   ]
  },
  {
   "cell_type": "code",
   "execution_count": null,
   "metadata": {},
   "outputs": [],
   "source": []
  }
 ],
 "metadata": {
  "kernelspec": {
   "display_name": "Python 3",
   "language": "python",
   "name": "python3"
  },
  "language_info": {
   "codemirror_mode": {
    "name": "ipython",
    "version": 3
   },
   "file_extension": ".py",
   "mimetype": "text/x-python",
   "name": "python",
   "nbconvert_exporter": "python",
   "pygments_lexer": "ipython3",
   "version": "3.7.4"
  }
 },
 "nbformat": 4,
 "nbformat_minor": 4
}
